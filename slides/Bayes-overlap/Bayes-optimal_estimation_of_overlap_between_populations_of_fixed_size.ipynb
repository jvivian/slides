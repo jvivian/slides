{
 "cells": [
  {
   "cell_type": "markdown",
   "metadata": {
    "slideshow": {
     "slide_type": "skip"
    }
   },
   "source": [
    "# Run Instructions\n",
    "\n",
    "Press `space` to progress the slide show once it's started.\n",
    "\n",
    "- Click on the cell below and run (`shift` + `enter`) to import dependencies and make functions accessible.\n",
    "- Start the slide show\n",
    "    - Click on the \"Enter/Exit RISE Slideshow\" (graph icon in the toolbar above)\n",
    "    - Or, press `Alt` + `r`"
   ]
  },
  {
   "cell_type": "code",
   "execution_count": 1,
   "metadata": {
    "ExecuteTime": {
     "end_time": "2019-12-19T22:17:13.115927Z",
     "start_time": "2019-12-19T22:17:12.676872Z"
    },
    "slideshow": {
     "slide_type": "skip"
    }
   },
   "outputs": [],
   "source": [
    "from matplotlib import rc\n",
    "import time\n",
    "import random\n",
    "from IPython import display\n",
    "import numpy as np\n",
    "import pandas as pd\n",
    "import matplotlib.pyplot as plt\n",
    "from scipy.stats import hypergeom\n",
    "from scipy.stats import binned_statistic as binsta\n",
    "from scipy.special import logsumexp\n",
    "import palettable as pal\n",
    "clrx = pal.cartocolors.qualitative.Prism_10.mpl_colors\n",
    "clr = tuple(x for n,x in enumerate(clrx) if n in [1,2,4,5,6])\n",
    "clr2 = pal.cartocolors.sequential.agSunset_7.mpl_colors\n",
    "import matplotlib.gridspec as gridspec\n",
    "import matplotlib.patches as patches\n",
    "\n",
    "def p_overlap(na,nb,nab,pool=60):\n",
    "    p_s = np.zeros(pool+1)\n",
    "    # reference: hypergeom.pmf(outcome, Total, hits, Draws, loc=0)\n",
    "    for s in np.arange(pool+1):\n",
    "        # p_sa is the probability that we'd get sa from the overlap (s), just in na draws of a\n",
    "        p_sa = hypergeom.pmf(np.arange(pool+1),pool,s,na)\n",
    "        # p_nab_given_sa is the probability of getting that nab, given sa\n",
    "        p_nab_given_sa = hypergeom.pmf(nab,pool,np.arange(pool+1),nb)\n",
    "        p_s[s] = np.dot(p_sa,p_nab_given_sa)\n",
    "    return p_s/np.sum(p_s)\n",
    "\n",
    "\n",
    "def credible_interval(na,nb,nab,pct=90,pool=60):\n",
    "    p_s = p_overlap(na,nb,nab,pool=pool)\n",
    "    cdf = np.cumsum(p_s)\n",
    "    ccdf = np.flipud(np.cumsum(np.flipud(p_s)))\n",
    "    # adjust for fractions vs percents; put everything as a fraction\n",
    "    if pct > 1:\n",
    "        pct = pct/100\n",
    "    cutoff = (1-pct)/2\n",
    "    # get the lower bound. \n",
    "    # it's the first index at which cdf ≥ cutoff\n",
    "    try:\n",
    "        lower = np.where(cdf >= cutoff)[0][0]\n",
    "    except IndexError:\n",
    "        lower = 0\n",
    "    # get the upper bound\n",
    "    # it's the first index at which ccdf ≥ 0.05\n",
    "    try:\n",
    "        upper = np.where(ccdf >= cutoff)[0][-1]\n",
    "    except IndexError:\n",
    "        upper=pool\n",
    "    expectation = np.dot(np.arange(pool+1),p_s)\n",
    "    # Sanity and indexing check: uncomment this line to see true tail probability ≤ 0.05\n",
    "    # print([cdf[lower-1],(1-ccdf[upper+1])])\n",
    "    return lower,expectation,upper\n"
   ]
  },
  {
   "cell_type": "markdown",
   "metadata": {
    "slideshow": {
     "slide_type": "slide"
    }
   },
   "source": [
    "# Bayes-optimal estimation of overlap between populations of fixed size\n",
    "Daniel B. Larremore "
   ]
  },
  {
   "cell_type": "markdown",
   "metadata": {},
   "source": [
    "Atreca journal club<br>\n",
    "John Vivian<br>\n",
    "December 9th, 2019"
   ]
  },
  {
   "cell_type": "markdown",
   "metadata": {
    "slideshow": {
     "slide_type": "slide"
    }
   },
   "source": [
    "## Motivating Question"
   ]
  },
  {
   "cell_type": "markdown",
   "metadata": {},
   "source": [
    "<center>How we can we more accurately estimate the population overlap of antibodies, or antibody lineages, between donors when sampling?</center>"
   ]
  },
  {
   "cell_type": "markdown",
   "metadata": {
    "slideshow": {
     "slide_type": "slide"
    }
   },
   "source": [
    "## The Problem"
   ]
  },
  {
   "cell_type": "markdown",
   "metadata": {},
   "source": [
    "![fig1](files/figures/fig1.png)"
   ]
  },
  {
   "cell_type": "markdown",
   "metadata": {
    "slideshow": {
     "slide_type": "slide"
    }
   },
   "source": [
    "## Existing methods\n",
    "\n",
    "Assuming $n_a$ and $n_b$ are samples from two populations with an intersection of $n_{ab}$"
   ]
  },
  {
   "cell_type": "markdown",
   "metadata": {
    "cell_style": "split",
    "slideshow": {
     "slide_type": "fragment"
    }
   },
   "source": [
    "### Jaccard index\n",
    "\n",
    "$$\\mathring{J} = \\frac{n_{ab}}{n_a + n_b - n_{ab}} = \\frac{n_a \\cap n_b}{n_a \\cup n_b}$$"
   ]
  },
  {
   "cell_type": "markdown",
   "metadata": {
    "cell_style": "split",
    "slideshow": {
     "slide_type": "fragment"
    }
   },
   "source": [
    "### Sørenson-Dice coefficient\n",
    "\n",
    "$$\\mathring{S} = \\frac{n_{ab}}{\\frac{1}{2}(n_a + n_b)}$$"
   ]
  },
  {
   "cell_type": "markdown",
   "metadata": {
    "slideshow": {
     "slide_type": "fragment"
    }
   },
   "source": [
    "<center>Intuitively, when two populations are identical these equal 1 and when they are entirely independent they equal 0.</center>"
   ]
  },
  {
   "cell_type": "markdown",
   "metadata": {
    "slideshow": {
     "slide_type": "slide"
    }
   },
   "source": [
    "## What is the problem with these methods?"
   ]
  },
  {
   "cell_type": "markdown",
   "metadata": {
    "ExecuteTime": {
     "end_time": "2019-12-07T19:36:15.458361Z",
     "start_time": "2019-12-07T19:36:15.420764Z"
    },
    "slideshow": {
     "slide_type": "fragment"
    }
   },
   "source": [
    "<br>\n",
    "<br>\n",
    "<br>\n",
    "<center>Sampling</center>"
   ]
  },
  {
   "cell_type": "markdown",
   "metadata": {
    "slideshow": {
     "slide_type": "subslide"
    }
   },
   "source": [
    "## Problems with sampling"
   ]
  },
  {
   "cell_type": "markdown",
   "metadata": {
    "cell_style": "split",
    "slideshow": {
     "slide_type": "fragment"
    }
   },
   "source": [
    "Imagine...<br>\n",
    "$n_a = n_b = 10$<br>\n",
    "$n_{ab} = 5$"
   ]
  },
  {
   "cell_type": "markdown",
   "metadata": {
    "cell_style": "split",
    "slideshow": {
     "slide_type": "fragment"
    }
   },
   "source": [
    "With perfect sampling...<br>\n",
    "$\\mathring{J} = \\frac{1}{3}$<br>\n",
    "$\\mathring{S} = \\frac{1}{2}$<br>"
   ]
  },
  {
   "cell_type": "markdown",
   "metadata": {
    "cell_style": "center",
    "slideshow": {
     "slide_type": "fragment"
    }
   },
   "source": [
    "<center>Yet, if we only sample 9 out of 10 species drawn from these populations, the expected values average $E[\\mathring{J}] = 0.29$ and $E[\\mathring{S}] = 0.45$, representing biases of $-12\\%$ and $-10\\%$.</center>"
   ]
  },
  {
   "cell_type": "code",
   "execution_count": null,
   "metadata": {
    "ExecuteTime": {
     "end_time": "2019-12-19T22:15:17.543703Z",
     "start_time": "2019-12-19T22:14:59.731562Z"
    },
    "slideshow": {
     "slide_type": "subslide"
    }
   },
   "outputs": [],
   "source": [
    "a, b = range(10), range(5, 15)\n",
    "avgs, roll_avg = [], []\n",
    "for i in range(125):\n",
    "    na, nb = set(random.sample(a, 9)), random.sample(b, 9)\n",
    "    nab = na.intersection(nb)\n",
    "    avgs.append(len(nab) /  9)\n",
    "    roll_avg.append(np.mean(avgs))\n",
    "    plt.figure(figsize=(16, 4))\n",
    "    plt.plot(range(i + 1), roll_avg, label='Average') \n",
    "    plt.axhline(0.45, c='r', ls='--', label='Asymptote')\n",
    "    plt.axhline(0.5, c='g', label='True value')\n",
    "    plt.xlabel('Trials'); plt.ylabel('Sørenson-Dice coefficient')\n",
    "    plt.title('Simulating the expected value of the Sørenson-Dice coefficient')\n",
    "    plt.legend(loc='lower center')\n",
    "    display   .display(plt.gcf()); display.clear_output(wait=True); plt.close()"
   ]
  },
  {
   "cell_type": "markdown",
   "metadata": {
    "cell_style": "center",
    "slideshow": {
     "slide_type": "slide"
    }
   },
   "source": [
    "# Bayesian Repertoire Overlap"
   ]
  },
  {
   "cell_type": "markdown",
   "metadata": {
    "slideshow": {
     "slide_type": "fragment"
    }
   },
   "source": [
    "## Goals"
   ]
  },
  {
   "cell_type": "markdown",
   "metadata": {
    "slideshow": {
     "slide_type": "fragment"
    }
   },
   "source": [
    "1. Accurately estimate the true repertoire overlap $s$ given the knowledge that $n_a$ samples from group $a$ and $n_b$ samples from group $b$ share $n_{ab}$ types."
   ]
  },
  {
   "cell_type": "markdown",
   "metadata": {
    "slideshow": {
     "slide_type": "fragment"
    }
   },
   "source": [
    "2. Given that the sampling of $n_a$ and $n_b$ is stochastic, we should ideally quantify the uncertainty of the estimate."
   ]
  },
  {
   "cell_type": "markdown",
   "metadata": {
    "slideshow": {
     "slide_type": "subslide"
    }
   },
   "source": [
    "## Sidebar: The hypergeometric distribution"
   ]
  },
  {
   "cell_type": "markdown",
   "metadata": {
    "slideshow": {
     "slide_type": "fragment"
    }
   },
   "source": [
    "### Relationship to other distributions (conceptually)\n",
    "\n",
    "1. Bernoulli distribution: $f(k;p) = p^k(1-p)^{1-k}$ where $k \\in \\{0, 1\\}$\n",
    "    1. Ex: Outcome of a single coin flip"
   ]
  },
  {
   "cell_type": "markdown",
   "metadata": {
    "slideshow": {
     "slide_type": "fragment"
    }
   },
   "source": [
    "2. Binomial distribution: $Pr(X=k) = {n \\choose k} p^kq^{n-k}$\n",
    "    1. Ex: An independent series of coin flips. E.g. Getting 5 heads in 15 coin flips. \n",
    "    2. Where ${n \\choose k} = \\frac{n!}{k!(n-k)!}$"
   ]
  },
  {
   "cell_type": "markdown",
   "metadata": {
    "slideshow": {
     "slide_type": "subslide"
    }
   },
   "source": [
    "### Relationship to other distributions (continued)\n",
    "2. Binomial distribution: $Pr(X=k) = {n \\choose k} p^kq^{n-k}$\n",
    "    1. Ex: An independent series of coin flips. E.g. Getting 5 heads in 15 coin flips. \n",
    "    2. Where ${n \\choose k} = \\frac{n!}{k!(n-k)!}$"
   ]
  },
  {
   "cell_type": "markdown",
   "metadata": {
    "slideshow": {
     "slide_type": "fragment"
    }
   },
   "source": [
    "3. Hypergeometric Distribution: $Pr(X=k) = \\frac{{s \\choose k}{N-s \\choose n-k}}{{N \\choose n}}$\n",
    "    1. Ex: Choosing 4 red balls out of a bucket of 10 balls in which 5 are red. Just like the binomial distribution, but _without replacement_, meaning the selections are not independent. "
   ]
  },
  {
   "cell_type": "markdown",
   "metadata": {
    "slideshow": {
     "slide_type": "subslide"
    }
   },
   "source": [
    "## Building intuition around the method"
   ]
  },
  {
   "cell_type": "markdown",
   "metadata": {
    "slideshow": {
     "slide_type": "fragment"
    }
   },
   "source": [
    "Definition: Given $s$ special objects among a total of $N$ wherein $n$ objects are drawn uniformly at random without replacement. We can write this as $\\mathcal{H}(s, N, n)$"
   ]
  },
  {
   "cell_type": "markdown",
   "metadata": {
    "slideshow": {
     "slide_type": "fragment"
    }
   },
   "source": [
    "Considering sampling $n_a$ genes from parasite $a$ with 60 total genes of interest. Of the 60, suppose $s$ are interesting because they are shared by parasite $b$. We can represent the number of shared sequences captured by sequencing parasite $a$ by the random variable $S_a = \\mathcal{H}(s, 60, n_a)$. "
   ]
  },
  {
   "cell_type": "markdown",
   "metadata": {
    "slideshow": {
     "slide_type": "fragment"
    }
   },
   "source": [
    "If we now consider sampling $n_b$ genes from parasite $b$'s 60 genes, in which $s_a$ are special because they are shared by both parasites and appeared when parasite $a$ was sequenced. This is identical to the process of sampling parasite $a$, but with $s_a$ special sequences instead of $s$, which gives us $\\mathcal{H}(s_a, 60, n_b)$."
   ]
  },
  {
   "cell_type": "markdown",
   "metadata": {
    "slideshow": {
     "slide_type": "subslide"
    }
   },
   "source": [
    "We can therefore substitute the random variable $S_a$ for the fixed value $s_a$. Replacing a fixed parameter with another random variable is the hallmark of hierarchical Bayesian models. Ergo, the probability of a particular number of shared sequences in the samples $n_{ab}$ is given by:"
   ]
  },
  {
   "cell_type": "markdown",
   "metadata": {
    "slideshow": {
     "slide_type": "fragment"
    }
   },
   "source": [
    "$$P(n_{ab} \\mid n_a, n_b, s) \\sim \\mathcal{H}(\\mathcal{H}(s, 60, n_a), 60, n_b)$$"
   ]
  },
  {
   "cell_type": "markdown",
   "metadata": {
    "slideshow": {
     "slide_type": "subslide"
    }
   },
   "source": [
    "## Bayes' Rule\n",
    "\n",
    "We did it!... almost. This formula gives us the probability of getting $n_{ab}$ samples and we want to go the other way and calculate the probability of $s$, true number of special objects, given the other values. Fortunately, we can do this readily by applying Bayes' rule, which is a method for inverting conditional probabilities.\n",
    "\n",
    "$$P(s \\mid n_a, n_b, n_{ab}) = \\frac{P(n_{ab} \\mid n_a, n_b, s)P(s)}{P(n_{ab})}$$"
   ]
  },
  {
   "cell_type": "markdown",
   "metadata": {
    "slideshow": {
     "slide_type": "fragment"
    }
   },
   "source": [
    "<center>Conceptually, this is the entire method. Calculating equation 6 in the paper is just boring algebra.</center>"
   ]
  },
  {
   "cell_type": "markdown",
   "metadata": {
    "slideshow": {
     "slide_type": "slide"
    }
   },
   "source": [
    "## Comparing methods"
   ]
  },
  {
   "cell_type": "code",
   "execution_count": null,
   "metadata": {
    "ExecuteTime": {
     "end_time": "2019-12-19T22:15:17.548200Z",
     "start_time": "2019-12-19T22:15:17.545509Z"
    },
    "slideshow": {
     "slide_type": "fragment"
    }
   },
   "outputs": [],
   "source": [
    "na = 47       # 47 samples from group A\n",
    "nb = 32       # 32 samples from group B\n",
    "nab = 20      # 20 of the samples are shared between A and B\n",
    "pool = 60     # There are a total of 60 items in both A and B\n",
    "# s = ?         What is the expected value of s in the population?"
   ]
  },
  {
   "cell_type": "code",
   "execution_count": null,
   "metadata": {
    "ExecuteTime": {
     "end_time": "2019-12-19T22:15:17.606384Z",
     "start_time": "2019-12-19T22:15:17.550327Z"
    },
    "slideshow": {
     "slide_type": "fragment"
    }
   },
   "outputs": [],
   "source": [
    "pts = pool*2*nab/(na+nb)\n",
    "ps = p_overlap(na,nb,nab,pool=pool)\n",
    "lower,shat,upper = credible_interval(na,nb,nab,pool=pool)\n",
    "x = np.arange(lower,upper+1)\n",
    "y = np.copy(ps[x])\n",
    "x = np.append(x,upper)\n",
    "y = np.append(y,0)\n",
    "x = np.insert(x,0,lower)\n",
    "y = np.insert(y,0,0)\n",
    "er = np.zeros([2,1])\n",
    "er[0] = shat-lower\n",
    "er[1] = upper-shat"
   ]
  },
  {
   "cell_type": "code",
   "execution_count": null,
   "metadata": {
    "ExecuteTime": {
     "end_time": "2019-12-19T22:15:17.820622Z",
     "start_time": "2019-12-19T22:15:17.607996Z"
    },
    "slideshow": {
     "slide_type": "slide"
    }
   },
   "outputs": [],
   "source": [
    "plt.figure(figsize=(12,6))\n",
    "plt.plot(np.arange(pool+1), ps, label='posterior distribution', linestyle='-', marker='o', ms=5, color = clr[2])\n",
    "plt.scatter(shat,0, facecolor=[1,1,1], edgecolor=clr[2], linewidth = 2, s=90, marker='o', label='Bayesian estimate', clip_on=False,zorder=100)\n",
    "plt.fill(x, y, facecolor=clr[2], edgecolor=[0,0,0], alpha=0.2, label='90% credible interval',)\n",
    "plt.scatter(pts,0, linewidth=2, color='k', marker='x', s=90, label='Sorenson-Dice coefficient, S', clip_on=False,zorder=100)\n",
    "plt.ylim(bottom=0)\n",
    "plt.legend()\n",
    "plt.ylabel('Posterior probability P(s)')\n",
    "plt.xlabel('s');"
   ]
  },
  {
   "cell_type": "markdown",
   "metadata": {
    "slideshow": {
     "slide_type": "slide"
    }
   },
   "source": [
    "## Sørenson-Dice coefficient routinely under-estimate the true $s$\n",
    "\n",
    "![fig3](files/figures/fig3.png)"
   ]
  },
  {
   "cell_type": "markdown",
   "metadata": {
    "ExecuteTime": {
     "end_time": "2019-12-08T02:10:40.784163Z",
     "start_time": "2019-12-08T02:10:40.656683Z"
    },
    "slideshow": {
     "slide_type": "fragment"
    }
   },
   "source": [
    "![fig4](files/figures/fig4.png)"
   ]
  },
  {
   "cell_type": "markdown",
   "metadata": {
    "slideshow": {
     "slide_type": "subslide"
    }
   },
   "source": [
    "# Quantification of uncertainty, another benefit\n",
    "\n",
    "![fig6](files/figures/fig6.png)"
   ]
  },
  {
   "cell_type": "markdown",
   "metadata": {
    "slideshow": {
     "slide_type": "skip"
    }
   },
   "source": [
    "## Application to antibody intersection\n",
    "\n",
    "<br>\n",
    "<center>Out of the box, what issue with this method prevents us from estimating the true antibody lineage overlap between donors?</center>"
   ]
  },
  {
   "cell_type": "markdown",
   "metadata": {
    "slideshow": {
     "slide_type": "skip"
    }
   },
   "source": [
    "<br>\n",
    "<br>\n",
    "<center>The answer is in the paper title: <em>populations of fixed size</em></center>"
   ]
  },
  {
   "cell_type": "markdown",
   "metadata": {
    "slideshow": {
     "slide_type": "skip"
    }
   },
   "source": [
    "The author already provides a generalization that works when the populations $N_a$ and $N_b$ are different, but they are still a fixed size."
   ]
  },
  {
   "cell_type": "markdown",
   "metadata": {
    "ExecuteTime": {
     "end_time": "2019-12-08T20:11:28.381828Z",
     "start_time": "2019-12-08T20:11:28.378588Z"
    },
    "slideshow": {
     "slide_type": "skip"
    }
   },
   "source": [
    "What are some possible solutions?"
   ]
  },
  {
   "cell_type": "markdown",
   "metadata": {
    "slideshow": {
     "slide_type": "skip"
    }
   },
   "source": [
    "## Extending the model\n",
    "\n",
    "One thought was to extend the model by replacing the fixed population parameters $N_a$ and $N_b$ with distributions. This assumes that we have a way of getting an average of the \"total\" plasmablast population across numerous individuals. How would we do this? How large would the uncertainty be? Could we use different distributions for those with an acute infection versus background?"
   ]
  },
  {
   "cell_type": "markdown",
   "metadata": {
    "cell_style": "split",
    "slideshow": {
     "slide_type": "skip"
    }
   },
   "source": [
    "![bgm1](files/figures/bgm1.png)"
   ]
  },
  {
   "cell_type": "markdown",
   "metadata": {
    "cell_style": "split",
    "slideshow": {
     "slide_type": "skip"
    }
   },
   "source": [
    "![bgm1](files/figures/bgm2.png)"
   ]
  },
  {
   "cell_type": "markdown",
   "metadata": {
    "slideshow": {
     "slide_type": "slide"
    }
   },
   "source": [
    "<center>Thank you</center>"
   ]
  }
 ],
 "metadata": {
  "celltoolbar": "Slideshow",
  "hide_input": false,
  "kernelspec": {
   "display_name": "Python 3",
   "language": "python",
   "name": "python3"
  },
  "language_info": {
   "codemirror_mode": {
    "name": "ipython",
    "version": 3
   },
   "file_extension": ".py",
   "mimetype": "text/x-python",
   "name": "python",
   "nbconvert_exporter": "python",
   "pygments_lexer": "ipython3",
   "version": "3.7.3"
  },
  "toc": {
   "base_numbering": 1,
   "nav_menu": {},
   "number_sections": true,
   "sideBar": true,
   "skip_h1_title": false,
   "title_cell": "Table of Contents",
   "title_sidebar": "Contents",
   "toc_cell": false,
   "toc_position": {},
   "toc_section_display": true,
   "toc_window_display": false
  }
 },
 "nbformat": 4,
 "nbformat_minor": 2
}
